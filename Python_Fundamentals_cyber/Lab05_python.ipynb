{
 "cells": [
  {
   "cell_type": "markdown",
   "id": "73003433",
   "metadata": {},
   "source": [
    "### Cybersecurity Python Lab 0000000000005"
   ]
  },
  {
   "cell_type": "markdown",
   "id": "96a9bb38",
   "metadata": {},
   "source": [
    "### Question 1\n",
    "1. name=input(\"What is your name? \"); find the variable type of name."
   ]
  },
  {
   "cell_type": "code",
   "execution_count": 1,
   "id": "93a0d3cc",
   "metadata": {},
   "outputs": [
    {
     "name": "stdout",
     "output_type": "stream",
     "text": [
      "What is your name? Abioye\n"
     ]
    },
    {
     "data": {
      "text/plain": [
       "str"
      ]
     },
     "execution_count": 1,
     "metadata": {},
     "output_type": "execute_result"
    }
   ],
   "source": [
    "name=input(\"What is your name? \")\n",
    "type(name)"
   ]
  },
  {
   "cell_type": "markdown",
   "id": "776bb987",
   "metadata": {},
   "source": [
    "### Question 2\n",
    "2. number=input(\"What is your age? \"); find the variable type of number."
   ]
  },
  {
   "cell_type": "code",
   "execution_count": 2,
   "id": "489b0c65",
   "metadata": {},
   "outputs": [
    {
     "name": "stdout",
     "output_type": "stream",
     "text": [
      "What is your age? 21\n"
     ]
    },
    {
     "data": {
      "text/plain": [
       "str"
      ]
     },
     "execution_count": 2,
     "metadata": {},
     "output_type": "execute_result"
    }
   ],
   "source": [
    "number=input(\"What is your age? \")\n",
    "type(number)"
   ]
  },
  {
   "cell_type": "markdown",
   "id": "222c7aac",
   "metadata": {},
   "source": [
    "### Question 3\n",
    "\n",
    "3. num=int(input(\"Enter a number: \")); find the variable type of num."
   ]
  },
  {
   "cell_type": "code",
   "execution_count": 3,
   "id": "d2a48e21",
   "metadata": {},
   "outputs": [
    {
     "name": "stdout",
     "output_type": "stream",
     "text": [
      "Enter a number: 123\n",
      "<class 'int'>\n"
     ]
    }
   ],
   "source": [
    "num=int(input(\"Enter a number: \"))\n",
    "print(type(num))"
   ]
  },
  {
   "cell_type": "markdown",
   "id": "5b352098",
   "metadata": {},
   "source": [
    "### Question 4\n",
    "4. a=2,b=3; what is the output for the command: print('The value of a is {} and b is {}'.format(a,b))"
   ]
  },
  {
   "cell_type": "code",
   "execution_count": 4,
   "id": "f9805036",
   "metadata": {},
   "outputs": [
    {
     "name": "stdout",
     "output_type": "stream",
     "text": [
      "The value of a is 2 and b is 3\n"
     ]
    }
   ],
   "source": [
    "a=2\n",
    "b=3\n",
    "\n",
    "print('The value of a is {} and b is {}'.format(a,b))"
   ]
  },
  {
   "cell_type": "markdown",
   "id": "aea33d14",
   "metadata": {},
   "source": [
    "### Question 5\n",
    "\n",
    "5. a=22,b=33; what is the output for the command: print('{2} is the sum of {0} and {1}'.format(a,b,a+b))"
   ]
  },
  {
   "cell_type": "code",
   "execution_count": 5,
   "id": "8f77005a",
   "metadata": {},
   "outputs": [
    {
     "name": "stdout",
     "output_type": "stream",
     "text": [
      "55 is the sum of 22 and 33\n"
     ]
    }
   ],
   "source": [
    "a=22\n",
    "b=33\n",
    "print('{2} is the sum of {0} and {1}'.format(a,b,a+b)) ## using index place holder\n",
    "## from the format() object element, a= index 0, b = index 1, a+b == index 2"
   ]
  },
  {
   "cell_type": "markdown",
   "id": "448e2239",
   "metadata": {},
   "source": [
    "### Question 6\n",
    "\n",
    "6. What is the character used to open a file for both appending and reading?"
   ]
  },
  {
   "cell_type": "code",
   "execution_count": 7,
   "id": "de66c3e8",
   "metadata": {},
   "outputs": [],
   "source": [
    "f = open(\"abioye.txt\", \"a+\")   ## 'a+' helps to open to append and read mode\n",
    "# f.close\n"
   ]
  },
  {
   "cell_type": "markdown",
   "id": "cf23efa4",
   "metadata": {},
   "source": [
    "### Question 7\n",
    "7. Find the character used to open a file for both writing and reading; overwrites the existing file if the file exists. If the file does not exist, create a new file for reading and writing.\n",
    "\n",
    "\"w+\"\n"
   ]
  },
  {
   "cell_type": "markdown",
   "id": "507d1c81",
   "metadata": {},
   "source": [
    "### Question 8\n",
    "\n",
    "8. Download and read the file users.db; find the number of lines the file contains."
   ]
  },
  {
   "cell_type": "code",
   "execution_count": 13,
   "id": "4abaf418",
   "metadata": {},
   "outputs": [
    {
     "name": "stdout",
     "output_type": "stream",
     "text": [
      "9\n"
     ]
    }
   ],
   "source": [
    "counter = 0\n",
    "with open(\"users.db.txt\") as f:\n",
    "    for i in f:\n",
    "        counter+=1\n",
    "print(counter)"
   ]
  },
  {
   "cell_type": "markdown",
   "id": "6416e9f0",
   "metadata": {},
   "source": [
    "### Question 9\n",
    "9. Read the file users.db using read(); what is the data type?"
   ]
  },
  {
   "cell_type": "code",
   "execution_count": 12,
   "id": "6c13940c",
   "metadata": {},
   "outputs": [
    {
     "name": "stdout",
     "output_type": "stream",
     "text": [
      "<class 'str'>\n"
     ]
    }
   ],
   "source": [
    "with open(\"users.db.txt\") as f:\n",
    "    f_read = f.read()\n",
    "    print(type(f_read))"
   ]
  },
  {
   "cell_type": "markdown",
   "id": "8ae865d1",
   "metadata": {},
   "source": [
    "### Question 10\n",
    "\n",
    "10. Read the file users.db using readline(); what is the data type?"
   ]
  },
  {
   "cell_type": "code",
   "execution_count": 16,
   "id": "a408b360",
   "metadata": {},
   "outputs": [
    {
     "name": "stdout",
     "output_type": "stream",
     "text": [
      "<class 'str'>\n"
     ]
    }
   ],
   "source": [
    "with open(\"users.db.txt\") as f:\n",
    "    f_readline = f.readline()\n",
    "    print(type(f_readline))"
   ]
  },
  {
   "cell_type": "markdown",
   "id": "27f94054",
   "metadata": {},
   "source": [
    "### Question 11\n",
    "\n",
    "11. Read the file users.db using readlines(); what is the data type?"
   ]
  },
  {
   "cell_type": "code",
   "execution_count": 17,
   "id": "daeadde3",
   "metadata": {},
   "outputs": [
    {
     "name": "stdout",
     "output_type": "stream",
     "text": [
      "<class 'list'>\n"
     ]
    }
   ],
   "source": [
    "with open(\"users.db.txt\") as f:\n",
    "    f_readline = f.readlines()\n",
    "    print(type(f_readline))"
   ]
  },
  {
   "cell_type": "markdown",
   "id": "35f83bce",
   "metadata": {},
   "source": [
    "### Question 11\n",
    "\n",
    "12. Use the file users.db and find the students average score."
   ]
  },
  {
   "cell_type": "code",
   "execution_count": 33,
   "id": "1156c346",
   "metadata": {},
   "outputs": [
    {
     "name": "stdout",
     "output_type": "stream",
     "text": [
      "[90, 85, 70, 75, 88, 92, 95, 91, 73]\n",
      "The average score is: 84.33333333333333\n"
     ]
    }
   ],
   "source": [
    "scorelist = []\n",
    "with open(\"users.db.txt\") as f:\n",
    "    f_readline = f.readlines()\n",
    "#     print(type(f_readline))\n",
    "    for i in f_readline:\n",
    "        for m in i.split():\n",
    "#             print(m)\n",
    "            if m.isnumeric() == True:\n",
    "#                 print(m)\n",
    "                scorelist.append(int(m))\n",
    "print(scorelist)  ## check the list \n",
    "\n",
    "## for average\n",
    "n = 0\n",
    "sum_ = 0\n",
    "for i in scorelist:\n",
    "    sum_+=i\n",
    "    n+=1\n",
    "\n",
    "av_score = sum_/n    \n",
    "print(\"The average score is: {}\".format(av_score))\n",
    "    "
   ]
  },
  {
   "cell_type": "markdown",
   "id": "09fc56ff",
   "metadata": {},
   "source": [
    "### The End"
   ]
  }
 ],
 "metadata": {
  "kernelspec": {
   "display_name": "Python 3 (ipykernel)",
   "language": "python",
   "name": "python3"
  },
  "language_info": {
   "codemirror_mode": {
    "name": "ipython",
    "version": 3
   },
   "file_extension": ".py",
   "mimetype": "text/x-python",
   "name": "python",
   "nbconvert_exporter": "python",
   "pygments_lexer": "ipython3",
   "version": "3.9.12"
  }
 },
 "nbformat": 4,
 "nbformat_minor": 5
}
