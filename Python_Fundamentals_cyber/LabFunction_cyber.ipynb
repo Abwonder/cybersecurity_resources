{
 "cells": [
  {
   "cell_type": "markdown",
   "id": "fa63419f",
   "metadata": {},
   "source": [
    "### Cyberscurity Python Class___007"
   ]
  },
  {
   "cell_type": "markdown",
   "id": "c0eb4eb1",
   "metadata": {},
   "source": [
    "### Lab on Function ... lab 000007"
   ]
  },
  {
   "cell_type": "markdown",
   "id": "aaafc1b3",
   "metadata": {},
   "source": [
    "### Question 1\n",
    "1. What string is used to declare a function in Python?\n",
    "\n",
    "def"
   ]
  },
  {
   "attachments": {
    "image.png": {
     "image/png": "[encoded data removed]"
    }
   },
   "cell_type": "markdown",
   "id": "bb102021",
   "metadata": {},
   "source": [
    "### Question 2\n",
    "\n",
    "2. Download and analyze the script; what is the output?\n",
    "\n",
    "\n",
    "![image.png](attachment:image.png)"
   ]
  },
  {
   "cell_type": "code",
   "execution_count": 3,
   "id": "fd58d65f",
   "metadata": {},
   "outputs": [
    {
     "name": "stdout",
     "output_type": "stream",
     "text": [
      "JHGJHGXC33CX\n",
      "The text is: JHGJHGXC33CX\n"
     ]
    }
   ],
   "source": [
    "def prnt(x):\n",
    "    print(\"The text is:\" ,x)\n",
    "    \n",
    "p1=\"XC3\"\n",
    "p2=\"JHG\"\n",
    "p3=\"3CX\"\n",
    "\n",
    "print(p2+p2+p1+p3)\n",
    "prnt(p2+p2+p1+p3)"
   ]
  },
  {
   "cell_type": "markdown",
   "id": "90007b3b",
   "metadata": {},
   "source": [
    "### Question 3\n",
    "\n",
    "3. x=3021, y=1203; create a function that can solve (x + y) * (x + y)."
   ]
  },
  {
   "cell_type": "code",
   "execution_count": 4,
   "id": "119419ea",
   "metadata": {},
   "outputs": [
    {
     "data": {
      "text/plain": [
       "17842176"
      ]
     },
     "execution_count": 4,
     "metadata": {},
     "output_type": "execute_result"
    }
   ],
   "source": [
    "def solve_math(x,y):\n",
    "    return (x + y) * (x + y)\n",
    "\n",
    "x = 3021\n",
    "y = 1203\n",
    "\n",
    "solve_math(x,y)"
   ]
  },
  {
   "cell_type": "markdown",
   "id": "9271e514",
   "metadata": {},
   "source": [
    "## Question 4\n",
    "4. hours=54; create a function that converts hours into seconds.\n"
   ]
  },
  {
   "cell_type": "code",
   "execution_count": 6,
   "id": "b15ffe0d",
   "metadata": {},
   "outputs": [
    {
     "data": {
      "text/plain": [
       "194400"
      ]
     },
     "execution_count": 6,
     "metadata": {},
     "output_type": "execute_result"
    }
   ],
   "source": [
    "def convert_hr_secs(hr):\n",
    "    return hr*(60*60)\n",
    "\n",
    "hr = 54\n",
    "convert_hr_secs(54)"
   ]
  },
  {
   "cell_type": "markdown",
   "id": "ef560dad",
   "metadata": {},
   "source": [
    "## Question 5\n",
    "\n",
    "5. a=[8,2,3,0,7]; create a function that prints the sum of a list.\n"
   ]
  },
  {
   "cell_type": "code",
   "execution_count": 7,
   "id": "88fa3447",
   "metadata": {},
   "outputs": [
    {
     "data": {
      "text/plain": [
       "20"
      ]
     },
     "execution_count": 7,
     "metadata": {},
     "output_type": "execute_result"
    }
   ],
   "source": [
    "### used args here which can represent unlimited dataset without crashing\n",
    "def list_sum(*args):\n",
    "    lst_sum = 0\n",
    "    for i in args:\n",
    "        for n in i:\n",
    "            lst_sum+=n\n",
    "    return lst_sum\n",
    "\n",
    "a=[8,2,3,0,7]\n",
    "list_sum(a)"
   ]
  },
  {
   "cell_type": "code",
   "execution_count": 8,
   "id": "788dd36a",
   "metadata": {},
   "outputs": [
    {
     "data": {
      "text/plain": [
       "20"
      ]
     },
     "execution_count": 8,
     "metadata": {},
     "output_type": "execute_result"
    }
   ],
   "source": [
    "# it works also\n",
    "def list_sum(y):\n",
    "    lst_sum = 0\n",
    "    for i in y:\n",
    "        lst_sum+=i\n",
    "    return lst_sum\n",
    "\n",
    "a=[8,2,3,0,7]\n",
    "list_sum(a)"
   ]
  },
  {
   "cell_type": "markdown",
   "id": "77cf7245",
   "metadata": {},
   "source": [
    "### Question 6\n",
    "6. a=Hello; create a function to reverse a string."
   ]
  },
  {
   "cell_type": "code",
   "execution_count": 24,
   "id": "a9bc65c1",
   "metadata": {},
   "outputs": [],
   "source": [
    "def rev_input(char_):\n",
    "    rev_str = \"\"\n",
    "#     print(char_)\n",
    "    for index in range(len(char_), 0, -1):\n",
    "#         print(index)\n",
    "        corr_index = index - 1\n",
    "#         print(corr_index)\n",
    "        rev_str+=char_[corr_index]\n",
    "    return rev_str"
   ]
  },
  {
   "cell_type": "code",
   "execution_count": 25,
   "id": "169d9074",
   "metadata": {},
   "outputs": [
    {
     "data": {
      "text/plain": [
       "'olleH'"
      ]
     },
     "execution_count": 25,
     "metadata": {},
     "output_type": "execute_result"
    }
   ],
   "source": [
    "a = \"Hello\"\n",
    "rev_input(a)"
   ]
  },
  {
   "cell_type": "markdown",
   "id": "9388d3bc",
   "metadata": {},
   "source": [
    "### Question 7\n",
    "\n",
    "a=[1,2,3,1,4,3,3,5,3,4,5]; create a function that returns a unique list."
   ]
  },
  {
   "cell_type": "code",
   "execution_count": 30,
   "id": "8320c87a",
   "metadata": {},
   "outputs": [],
   "source": [
    "def lst_unique(m):\n",
    "    newlst = []\n",
    "    for i in m:\n",
    "        if i in newlst:\n",
    "            pass\n",
    "        else:\n",
    "            newlst.append(i)\n",
    "    return newlst"
   ]
  },
  {
   "cell_type": "code",
   "execution_count": 31,
   "id": "012c34df",
   "metadata": {},
   "outputs": [
    {
     "data": {
      "text/plain": [
       "[1, 2, 3, 4, 5]"
      ]
     },
     "execution_count": 31,
     "metadata": {},
     "output_type": "execute_result"
    }
   ],
   "source": [
    "a=[1,2,3,1,4,3,3,5,3,4,5]\n",
    "lst_unique(a)"
   ]
  },
  {
   "cell_type": "markdown",
   "id": "c4911264",
   "metadata": {},
   "source": [
    "### Question 8\n",
    "8. Download the file num.lst; create a function to find the number of lines containing '2'.\n"
   ]
  },
  {
   "cell_type": "code",
   "execution_count": 54,
   "id": "cbbdfcab",
   "metadata": {},
   "outputs": [],
   "source": [
    "def numline_count(filename):\n",
    "    counter = 0\n",
    "    filename = str(filename) + \".txt\"\n",
    "#     print(filename)\n",
    "    with open(filename, \"r\") as f:\n",
    "        for i in f:\n",
    "            if i.count(\"2\") > 0:\n",
    "                counter+=1\n",
    "    return counter\n"
   ]
  },
  {
   "cell_type": "code",
   "execution_count": 55,
   "id": "47fcd557",
   "metadata": {},
   "outputs": [
    {
     "data": {
      "text/plain": [
       "3439"
      ]
     },
     "execution_count": 55,
     "metadata": {},
     "output_type": "execute_result"
    }
   ],
   "source": [
    "numline_count(\"num.lst\")"
   ]
  },
  {
   "cell_type": "markdown",
   "id": "2bd6ec92",
   "metadata": {},
   "source": [
    "### Question 9\n",
    "\n",
    "9. Create a function to read num.lst and find the number of lines containing '00'."
   ]
  },
  {
   "cell_type": "code",
   "execution_count": 79,
   "id": "79c0730a",
   "metadata": {},
   "outputs": [],
   "source": [
    "def numline_count(filename):\n",
    "    counter = 0\n",
    "    filename = str(filename) + \".txt\"\n",
    "#     print(filename)\n",
    "    with open(filename, \"r\") as f:\n",
    "        for i in f:\n",
    "            if \"00\" in i:\n",
    "                counter+=1 \n",
    "    return counter"
   ]
  },
  {
   "cell_type": "code",
   "execution_count": 80,
   "id": "7b014027",
   "metadata": {},
   "outputs": [
    {
     "data": {
      "text/plain": [
       "280"
      ]
     },
     "execution_count": 80,
     "metadata": {},
     "output_type": "execute_result"
    }
   ],
   "source": [
    "numline_count(\"num.lst\")"
   ]
  },
  {
   "cell_type": "markdown",
   "id": "d871b7a5",
   "metadata": {},
   "source": [
    "### Question 10\n",
    "10. Create a function to read num.lst and find the number of lines ending with '3'."
   ]
  },
  {
   "cell_type": "code",
   "execution_count": 125,
   "id": "7ad6ad4b",
   "metadata": {},
   "outputs": [],
   "source": [
    "def numline_count(filename):\n",
    "    counter = 0\n",
    "    filename = str(filename) + \".txt\"\n",
    "#     print(filename)\n",
    "    with open(filename, \"r\") as f:\n",
    "        for i in f:\n",
    "            i = i.strip()\n",
    "            if i.endswith(\"3\") == True:\n",
    "                counter+=1       \n",
    "    return counter"
   ]
  },
  {
   "cell_type": "code",
   "execution_count": 126,
   "id": "7c796b3a",
   "metadata": {},
   "outputs": [
    {
     "data": {
      "text/plain": [
       "1000"
      ]
     },
     "execution_count": 126,
     "metadata": {},
     "output_type": "execute_result"
    }
   ],
   "source": [
    "numline_count(\"num.lst\")"
   ]
  },
  {
   "cell_type": "markdown",
   "id": "fc7b2b16",
   "metadata": {},
   "source": [
    "### Question 11\n",
    "11. Download the file num3.lst; create a function to find how many numbers are even."
   ]
  },
  {
   "cell_type": "code",
   "execution_count": 130,
   "id": "4108c651",
   "metadata": {},
   "outputs": [],
   "source": [
    "def numline_count(filename):\n",
    "    counter = 0\n",
    "    filename = str(filename) + \".txt\"\n",
    "#     print(filename)\n",
    "    with open(filename, \"r\") as f:\n",
    "        for i in f:\n",
    "            i = int(i)\n",
    "#             print(type(i))\n",
    "            if i%2==0:\n",
    "                counter+=1       \n",
    "    return counter"
   ]
  },
  {
   "cell_type": "code",
   "execution_count": 131,
   "id": "25732c38",
   "metadata": {},
   "outputs": [
    {
     "data": {
      "text/plain": [
       "2916"
      ]
     },
     "execution_count": 131,
     "metadata": {},
     "output_type": "execute_result"
    }
   ],
   "source": [
    "numline_count(\"num3.lst\")"
   ]
  },
  {
   "cell_type": "markdown",
   "id": "44ed17fe",
   "metadata": {},
   "source": [
    "### Question 12\n",
    "12. Create a function to read num3.lst and sum all the numbers that can be divided by 7 with no remainder."
   ]
  },
  {
   "cell_type": "code",
   "execution_count": 132,
   "id": "f62b50ac",
   "metadata": {},
   "outputs": [],
   "source": [
    "def sum_num_divided7(filename):\n",
    "    sum_ = 0\n",
    "    filename = str(filename) + \".txt\"\n",
    "#     print(filename)\n",
    "    with open(filename, \"r\") as f:\n",
    "        for i in f:\n",
    "            i = int(i)\n",
    "#             print(type(i))\n",
    "            if i%7==0:\n",
    "                sum_+=i     \n",
    "    return sum_"
   ]
  },
  {
   "cell_type": "code",
   "execution_count": 133,
   "id": "d59d4012",
   "metadata": {},
   "outputs": [
    {
     "data": {
      "text/plain": [
       "5211759"
      ]
     },
     "execution_count": 133,
     "metadata": {},
     "output_type": "execute_result"
    }
   ],
   "source": [
    "sum_num_divided7(\"num3.lst\")"
   ]
  },
  {
   "cell_type": "markdown",
   "id": "d27e40cf",
   "metadata": {},
   "source": [
    "### The End"
   ]
  }
 ],
 "metadata": {
  "kernelspec": {
   "display_name": "Python 3 (ipykernel)",
   "language": "python",
   "name": "python3"
  },
  "language_info": {
   "codemirror_mode": {
    "name": "ipython",
    "version": 3
   },
   "file_extension": ".py",
   "mimetype": "text/x-python",
   "name": "python",
   "nbconvert_exporter": "python",
   "pygments_lexer": "ipython3",
   "version": "3.9.12"
  }
 },
 "nbformat": 4,
 "nbformat_minor": 5
}
