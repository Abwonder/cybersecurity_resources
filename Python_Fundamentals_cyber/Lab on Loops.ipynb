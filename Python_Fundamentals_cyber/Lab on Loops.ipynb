{
 "cells": [
  {
   "cell_type": "markdown",
   "id": "b4bd5bcb",
   "metadata": {},
   "source": [
    "### Cybersecurity Python lab00000000004"
   ]
  },
  {
   "cell_type": "markdown",
   "id": "7aae5716",
   "metadata": {},
   "source": [
    "### Question 1\n",
    "1. Create a loop to sum numbers; what is the sum between 1 and 1000?"
   ]
  },
  {
   "cell_type": "code",
   "execution_count": 1,
   "id": "097c1a91",
   "metadata": {},
   "outputs": [
    {
     "name": "stdout",
     "output_type": "stream",
     "text": [
      "500500\n"
     ]
    }
   ],
   "source": [
    "sumResult = 0 \n",
    "for x in range(1000):\n",
    "    x_add = x + 1\n",
    "    sumResult += x_add\n",
    "print(sumResult)"
   ]
  },
  {
   "cell_type": "markdown",
   "id": "aa361ae4",
   "metadata": {},
   "source": [
    "### Question 2\n",
    "2. for i in range(0,1000,17); print(i) and find the last printed value."
   ]
  },
  {
   "cell_type": "code",
   "execution_count": 3,
   "id": "12438748",
   "metadata": {},
   "outputs": [
    {
     "name": "stdout",
     "output_type": "stream",
     "text": [
      "986\n"
     ]
    }
   ],
   "source": [
    "for i in range(0,1000,17):\n",
    "    i\n",
    "print(i)"
   ]
  },
  {
   "cell_type": "markdown",
   "id": "22987acf",
   "metadata": {},
   "source": [
    "### Question 3\n",
    "3. a='Josef'; create a loop that uses the ord() function for each character; find the sum of a."
   ]
  },
  {
   "cell_type": "code",
   "execution_count": 6,
   "id": "afec569b",
   "metadata": {},
   "outputs": [
    {
     "name": "stdout",
     "output_type": "stream",
     "text": [
      "503\n"
     ]
    }
   ],
   "source": [
    "a='Josef'\n",
    "ord_numbSum = 0\n",
    "for x in a:\n",
    "    ord_numbSum += ord(x)\n",
    "print(ord_numbSum)"
   ]
  },
  {
   "cell_type": "markdown",
   "id": "e6c72c48",
   "metadata": {},
   "source": [
    "### Question 4\n",
    "\n",
    "4. list=['abcd', '123' , 'xyz', 'john', 70.2]; create a loop to count the number of characters in the list."
   ]
  },
  {
   "cell_type": "code",
   "execution_count": 8,
   "id": "5fea2d81",
   "metadata": {},
   "outputs": [
    {
     "data": {
      "text/plain": [
       "4"
      ]
     },
     "execution_count": 8,
     "metadata": {},
     "output_type": "execute_result"
    }
   ],
   "source": [
    "## fact checking how len() works\n",
    "\n",
    "len(\"70.2\")"
   ]
  },
  {
   "cell_type": "code",
   "execution_count": 12,
   "id": "c25c5ef8",
   "metadata": {},
   "outputs": [
    {
     "name": "stdout",
     "output_type": "stream",
     "text": [
      "18\n"
     ]
    }
   ],
   "source": [
    "list=['abcd', '123' , 'xyz', 'john', 70.2]\n",
    "\n",
    "char_sum = 0\n",
    "for element in list:\n",
    "    if element == str:  ## condition to check their type before working on it\n",
    "        char_sum += len(element)\n",
    "    else:\n",
    "        char_sum += len(str(element))        \n",
    "#     print(element)\n",
    "print(char_sum)"
   ]
  },
  {
   "cell_type": "code",
   "execution_count": 14,
   "id": "0dd3a9d8",
   "metadata": {},
   "outputs": [
    {
     "name": "stdout",
     "output_type": "stream",
     "text": [
      "18\n"
     ]
    }
   ],
   "source": [
    "### another way to do it\n",
    "list=['abcd', '123' , 'xyz', 'john', 70.2]\n",
    "\n",
    "char_sum = 0\n",
    "for element in list:\n",
    "    char_sum += len(str(element)) ### re-change all the element to strings\n",
    "print(char_sum)"
   ]
  },
  {
   "cell_type": "markdown",
   "id": "76c4deb0",
   "metadata": {},
   "source": [
    "### Question 5\n",
    "5. Create a loop to sum all the ASCII characters (a-z) decimal values."
   ]
  },
  {
   "cell_type": "code",
   "execution_count": 20,
   "id": "beae74ab",
   "metadata": {},
   "outputs": [
    {
     "name": "stdout",
     "output_type": "stream",
     "text": [
      "2847\n"
     ]
    }
   ],
   "source": [
    "### import the required library\n",
    "import string\n",
    "\n",
    "ascii_sum = 0\n",
    "for i in string.ascii_lowercase:\n",
    "    ascii_sum += ord(i)\n",
    "#     print(i)\n",
    "print(ascii_sum)"
   ]
  },
  {
   "cell_type": "markdown",
   "id": "24c203cd",
   "metadata": {},
   "source": [
    "### Question 6\n",
    "6. lst=[3, 7, 6, 8, 9, 11, 15, 25]; create a loop that appends the square of each number to the new list; print the sum of the new list."
   ]
  },
  {
   "cell_type": "code",
   "execution_count": 24,
   "id": "04499baa",
   "metadata": {},
   "outputs": [
    {
     "name": "stdout",
     "output_type": "stream",
     "text": [
      "1210\n"
     ]
    }
   ],
   "source": [
    "## coding\n",
    "lst=[3, 7, 6, 8, 9, 11, 15, 25]\n",
    "sum_sqrlist = []\n",
    "sum_ = 0\n",
    "for num in lst:\n",
    "    sum_sqrlist.append(num**2) \n",
    "#     print(num)\n",
    "### summing the square from the newlist\n",
    "for n in sum_sqrlist:\n",
    "    sum_ += n\n",
    "print(sum_)"
   ]
  },
  {
   "cell_type": "markdown",
   "id": "c8701463",
   "metadata": {},
   "source": [
    "### Question 7\n",
    "7. lst=[\"4\", \"8\", \"7\", \"41\", \"12\", \"2\", \"15\", \"33\"]; create a loop that appends the square of each number to the new list; print the sum of the new list."
   ]
  },
  {
   "cell_type": "code",
   "execution_count": 26,
   "id": "9b454283",
   "metadata": {},
   "outputs": [
    {
     "name": "stdout",
     "output_type": "stream",
     "text": [
      "3272\n"
     ]
    }
   ],
   "source": [
    "lst=[\"4\", \"8\", \"7\", \"41\", \"12\", \"2\", \"15\", \"33\"]\n",
    "sum_sqrlist = []\n",
    "sum_ = 0\n",
    "for num in lst:\n",
    "    sum_sqrlist.append(int(num)**2) \n",
    "#     print(num)\n",
    "### summing the square from the newlist\n",
    "for n in sum_sqrlist:\n",
    "    sum_ += n\n",
    "print(sum_)"
   ]
  },
  {
   "cell_type": "markdown",
   "id": "a709d191",
   "metadata": {},
   "source": [
    "### Question 8\n",
    "8. Create a loop that sums the numbers dividing by seven (7) between 100-10000.\n"
   ]
  },
  {
   "cell_type": "code",
   "execution_count": 27,
   "id": "51c6a0fd",
   "metadata": {},
   "outputs": [
    {
     "name": "stdout",
     "output_type": "stream",
     "text": [
      "7141407\n"
     ]
    }
   ],
   "source": [
    "## store the sum\n",
    "sum_ = 0\n",
    "\n",
    "## looping over the iteration between 100 -10000\n",
    "for number in range(100,10000+1):\n",
    "    if number%7==0:\n",
    "        sum_ += number\n",
    "print(sum_)   "
   ]
  },
  {
   "cell_type": "markdown",
   "id": "c961b4b6",
   "metadata": {},
   "source": [
    "###  The End"
   ]
  }
 ],
 "metadata": {
  "kernelspec": {
   "display_name": "Python 3 (ipykernel)",
   "language": "python",
   "name": "python3"
  },
  "language_info": {
   "codemirror_mode": {
    "name": "ipython",
    "version": 3
   },
   "file_extension": ".py",
   "mimetype": "text/x-python",
   "name": "python",
   "nbconvert_exporter": "python",
   "pygments_lexer": "ipython3",
   "version": "3.9.12"
  }
 },
 "nbformat": 4,
 "nbformat_minor": 5
}
